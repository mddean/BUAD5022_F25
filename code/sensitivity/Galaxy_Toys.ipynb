{
 "cells": [
  {
   "cell_type": "markdown",
   "id": "71437024-ae48-4d40-af15-0c62f35c53c2",
   "metadata": {},
   "source": [
    "# Template for Solving Models\n",
    "\n",
    "Every basic Gurobi optimization model can be constructed with the code template shown below.  This template is provided as a starting point for each problem formulations below. Feel free to use it for your work.\n",
    "\n",
    "```python\n",
    "import gurobipy as gp\n",
    "from gurobipy import GRB\n",
    "\n",
    "''' Import or define problem data '''\n",
    "\n",
    "''' Create Gurobi model object '''\n",
    "m = gp.Model('') # insert model name in quotes\n",
    "\n",
    "''' Specify whether model is maximized or minimized   (model sense) '''\n",
    "m.ModelSense = GRB.MAXIMIZE\n",
    "\n",
    "''' Specify optimization parameter settings, if desired '''\n",
    "# m.setParam('TimeLimit', 7200)\n",
    "\n",
    "''' Create decision variables and update model'''\n",
    "# Use m.addVar(), m.addVars() or m.addMVar() here\n",
    "m.update()\n",
    "\n",
    "''' Create objective function and update model '''\n",
    "m.setObjective()\n",
    "m.update()\n",
    "\n",
    "''' Create constraints and update model '''\n",
    "# Use m.addConstr(), m.addLConstr(), m.addConstrs(), or m.addMConstr() here\n",
    "m.update()\n",
    "\n",
    "''' Optimize model '''\n",
    "m.optimize()\n",
    "\n",
    "''' Print results '''\n",
    "\n",
    "```"
   ]
  },
  {
   "cell_type": "markdown",
   "id": "cf985da4-9f6e-4610-88d8-7c7f4d8aa9c6",
   "metadata": {},
   "source": [
    "# Exploring the Galaxy Toys Example\n",
    "\n",
    "We are now going to explore the Galaxy Toys example a bit more. Let's first see how to create and solve the model using Gurobi. Then, how can we get the sensitivity analysis information out?"
   ]
  },
  {
   "cell_type": "code",
   "execution_count": null,
   "id": "571af03c-90c1-4a21-af66-b45b78863edf",
   "metadata": {},
   "outputs": [],
   "source": [
    "# import the two Gurobi parts we need\n",
    "import gurobipy as gp\n",
    "from gurobipy import GRB\n",
    "# import pandas for help in functions\n",
    "import pandas as pd"
   ]
  },
  {
   "cell_type": "code",
   "execution_count": null,
   "id": "17d7e1f8-9926-4151-8896-b1c486a51964",
   "metadata": {},
   "outputs": [],
   "source": [
    "# Define a function that will return sensitivity analysis for the variables\n",
    "def sa_vars(the_vars):\n",
    "    \"\"\"\n",
    "    This function takes the variables from a solved model\n",
    "    and returns a pandas DataFrame where the index is the\n",
    "    variable name and the columns are the (1) the resulting\n",
    "    value of the variable, (2) the reduced cost, (3) the\n",
    "    objective function coefficient, (4) the low end of the\n",
    "    range of optimality, and (5) the high end of the range\n",
    "    of optimality\n",
    "\n",
    "    Parameters\n",
    "    ===============\n",
    "    the_vars: the variables of the solved model (e.g., the\n",
    "              result of m.getVars())\n",
    "\n",
    "    Returns\n",
    "    ===============\n",
    "    A pandas DataFrame object\n",
    "    \"\"\"\n",
    "    sa = {}\n",
    "    for v in the_vars:\n",
    "        sa[v.VarName] = [v.X, v.RC, v.Obj, v.SAObjLow, v.SAObjUp]\n",
    "\n",
    "    return pd.DataFrame.from_dict(sa,\n",
    "                       orient='index',\n",
    "                       columns=['final_value', 'reduced_cost', 'obj_coef', 'range_opt_low', 'range_opt_high'])"
   ]
  },
  {
   "cell_type": "code",
   "execution_count": null,
   "id": "c9b2468c-7681-4bd0-9b25-f1a6aa9c187f",
   "metadata": {},
   "outputs": [],
   "source": [
    "\n",
    "def sa_constrs(the_constrs):\n",
    "    \"\"\"\n",
    "    This function takes the constraints from a solved model\n",
    "    and returns a pandas DataFrame where the index is the\n",
    "    constraint name and the columns are the (1) indication \n",
    "    if the constraint is binding or non-binding, (2) the\n",
    "    value of the constraint, (3) the RHS of the constraint,\n",
    "    (4) the slack, (5) the shadow price, (6) the low end of\n",
    "    the range of feasibility, and (5) the high end of the\n",
    "    range of feasibility\n",
    "\n",
    "    Parameters\n",
    "    ===============\n",
    "    the_constrs: the constraints of the solved model (e.g., the\n",
    "              result of m.getConstrs())\n",
    "\n",
    "    Returns\n",
    "    ===============\n",
    "    A pandas DataFrame object\n",
    "    \"\"\"\n",
    "    sa = {}\n",
    "    for c in the_constrs:\n",
    "        binding = 'binding'\n",
    "        if c.Slack > 0.00001:\n",
    "            binding = 'non-binding'\n",
    "        sa[c.constrName] = [binding, c.RHS-c.Slack, c.RHS, c.Slack, c.pi, c.SARHSLow, c.SARHSUp]\n",
    "\n",
    "    return pd.DataFrame.from_dict(sa,\n",
    "                        orient='index',\n",
    "                        columns=['binding?', 'final_value', 'RHS', 'slack', 'shadow_price', 'range_feas_low', 'range_feas_high'])"
   ]
  },
  {
   "cell_type": "markdown",
   "id": "bc11e144-3fb3-4309-859b-34fed6c8d30a",
   "metadata": {},
   "source": [
    "## Very Simple Approach\n",
    "\n",
    "We are going to start with the most basic and \"simple\" way to create and solve our small LP using Gurobi. We will do it steps, with each step in its own code cell. (You can, of course, put all these steps into a single code cell.) NOTE: We should probably put a `try` block around all of this code to catch any runtime errors. "
   ]
  },
  {
   "cell_type": "markdown",
   "id": "a8f8caed-a59f-42d0-b021-28a673cb27ad",
   "metadata": {},
   "source": [
    "## Formulation \n",
    "\n",
    "Recall that our formulation looked like this:\n",
    "\n",
    "| | | |\n",
    "| --- | --- | --- |\n",
    "| Let | | |\n",
    "| $x_{s}$ | = | number of lots (dozens) of Space Rays to produce next week |\n",
    "| $x_{p}$ | = | number of lots (dozens) of Phasers to produce next week |\n",
    "\n",
    "| | | | | | | |\n",
    "| --- | --- | --- | --- | --- | --- | --- |\n",
    "| $\\max$ | $8x_{s}$ | $+$ | $5x_{p}$ | | | |\n",
    "| s.t. | $2x_{s}$ | $+$ | $1x_{p}$ | $\\le$ | $1200$ | {plastic pounds} |\n",
    "| | $3x_{s}$ | $+$ | $4x_{p}$ | $\\le$ | $2400$ | {minutes of production} |\n",
    "| | $1x_{s}$ | $+$ | $1x_{p}$ | $\\le$ | $800$ | {overall production limit} |\n",
    "| | $1x_{s}$ | $-$ | $1x_{p}$ | $\\le$ | $450$ | {mix of products produced} |\n",
    "| | $x_{s}$ | | | $\\ge$ | $0$ | {non-negativity} |\n",
    "| | | | $x_{p}$ | $\\ge$ | $0$ | {non-negativity} |"
   ]
  },
  {
   "cell_type": "code",
   "execution_count": null,
   "id": "9883f313-d5d1-4438-b921-51b090f5c9c7",
   "metadata": {},
   "outputs": [],
   "source": [
    "# Create the model object\n",
    "m = gp.Model('galaxy_toys')"
   ]
  },
  {
   "cell_type": "code",
   "execution_count": null,
   "id": "abab713c-5215-4ca2-b287-30879561b058",
   "metadata": {},
   "outputs": [],
   "source": [
    "# Specify how to optimize and time limit (seconds)\n",
    "m.ModelSense = GRB.MAXIMIZE\n",
    "m.setParam('TimeLimit', 600)\n",
    "\n",
    "# update the model\n",
    "m.update()"
   ]
  },
  {
   "cell_type": "code",
   "execution_count": null,
   "id": "37d79490-a855-46ad-b5cc-b7962853eb28",
   "metadata": {},
   "outputs": [],
   "source": [
    "# Create decision variables\n",
    "# We tell the solver that the variables are continuous,\n",
    "#   their names, and their lower bounds\n",
    "x_s = m.addVar(vtype=GRB.CONTINUOUS, name='x_s', lb=0.0)\n",
    "x_p = m.addVar(vtype=GRB.CONTINUOUS, name='x_p', lb=0.0)\n",
    "\n",
    "# update the model\n",
    "m.update()"
   ]
  },
  {
   "cell_type": "code",
   "execution_count": null,
   "id": "d9319cc0-cb64-4408-b90c-077774289933",
   "metadata": {},
   "outputs": [],
   "source": [
    "# Add the objective function\n",
    "m.setObjective(8 * x_s + 5 * x_p)\n",
    "m.update()"
   ]
  },
  {
   "cell_type": "code",
   "execution_count": null,
   "id": "182070df-5ffc-4fc8-9baf-77cfe4da08e1",
   "metadata": {},
   "outputs": [],
   "source": [
    "# Add the constraints\n",
    "# We can simply write out the constraints for the first parameter\n",
    "# The second parameter names the constraint\n",
    "m.addConstr(2*x_s + x_p <= 1200, name='plastic')\n",
    "m.addConstr(3*x_s + 4*x_p <= 2400, name='labor')\n",
    "m.addConstr(x_s + x_p <= 800, name='total_production')\n",
    "m.addConstr(x_s - x_p <= 450, name='product_mix')\n",
    "m.update()"
   ]
  },
  {
   "cell_type": "code",
   "execution_count": null,
   "id": "deefb15f-b4b2-405e-83aa-e815d995aed4",
   "metadata": {},
   "outputs": [],
   "source": [
    "# This method is undocumented and deprecated\n",
    "# BUT I think it still works\n",
    "m.display()"
   ]
  },
  {
   "cell_type": "code",
   "execution_count": null,
   "id": "fc008859-43e7-4bd7-8f63-a521ae651e5d",
   "metadata": {},
   "outputs": [],
   "source": [
    "# solve\n",
    "m.optimize()"
   ]
  },
  {
   "cell_type": "markdown",
   "id": "37bfab84-35f9-439a-90df-90edf0c8580e",
   "metadata": {},
   "source": [
    "### Getting the Results\n",
    "\n",
    "We now want to get the results and print them in a little nicer format. "
   ]
  },
  {
   "cell_type": "code",
   "execution_count": null,
   "id": "56d2d134-65aa-49cb-8eb0-91f752e533da",
   "metadata": {},
   "outputs": [],
   "source": [
    "# Get the results out\n",
    "print(f'To generate the optimal profit of ${m.ObjVal:0.2f}, you should produce the following amounts:')\n",
    "for v in m.getVars():\n",
    "    print(f'   {v.VarName} = {v.X}')"
   ]
  },
  {
   "cell_type": "markdown",
   "id": "c44989e3-d61c-4ed5-a15f-1d492c377747",
   "metadata": {},
   "source": [
    "### Sensitivity Analysis\n",
    "\n",
    "We can easily get the reduced cost and the range of optimality for each variable. Similarly, we can extract the shadow price and the range feasibility for each constraint."
   ]
  },
  {
   "cell_type": "code",
   "execution_count": null,
   "id": "35cdc8b8-1d32-49c5-a718-2865f95cd58d",
   "metadata": {},
   "outputs": [],
   "source": [
    "# Get the reduced cost and range of optimality for each variable\n",
    "for v in m.getVars():\n",
    "    print(f'{v.VarName} has a reduced cost of {v.RC}')\n",
    "    print(f'   and a range of optimality from {v.SAObjLow} to {v.SAObjUp}')"
   ]
  },
  {
   "cell_type": "code",
   "execution_count": null,
   "id": "620e8170-a165-4f48-a986-dbd63e692ce3",
   "metadata": {},
   "outputs": [],
   "source": [
    "# Get the shadow price and the range of feasibility for each constraint\n",
    "for c in m.getConstrs():\n",
    "    print(f'{c.constrName} has a shadow price of {c.pi}')\n",
    "    print(f'   and a range of feasibility from {c.SARHSLow} to {c.SARHSUp}')\n",
    "    print(f'   and a slack of {c.Slack}')\n",
    "    print(f'   and a RHS of {c.RHS}')\n",
    "    print(f'   and a final value of {m.getRow(c).getValue()}')"
   ]
  },
  {
   "cell_type": "markdown",
   "id": "adf614c1-a3ec-42da-bf5b-09fe8f08df23",
   "metadata": {},
   "source": [
    "### Modularized Functionality\n",
    "\n",
    "Up at the top of this notebook, I created two functions to make it easier to extract the sensitivity analysis for both the variables, `sa_vars()`, and the constraints, `sa_constrs()`. Let's use those to get the sensitivity information out. First, we'll examine the docstring on the function and then use it."
   ]
  },
  {
   "cell_type": "code",
   "execution_count": null,
   "id": "70fcd3c8-1a02-44b9-be84-514111d48dba",
   "metadata": {},
   "outputs": [],
   "source": [
    "help(sa_vars)"
   ]
  },
  {
   "cell_type": "code",
   "execution_count": null,
   "id": "5303430d-d983-43d7-a818-2424c13bdc79",
   "metadata": {},
   "outputs": [],
   "source": [
    "# returns a DataFrame\n",
    "# This will simply print it out\n",
    "sa_vars(m.getVars())"
   ]
  },
  {
   "cell_type": "markdown",
   "id": "13909205-52ac-4932-b2b5-8c9fbe03cd1f",
   "metadata": {},
   "source": [
    "### Range of Optimality\n",
    "\n",
    "Suppose the objective function coefficient for space rays was really \\$7. How does this change the solution? Can you answer that question using the sensitivity report? Do you have re-solve the problem witht the new data?"
   ]
  },
  {
   "cell_type": "markdown",
   "id": "7832c7b3-d2b2-48c7-a0c7-952d8e3e9196",
   "metadata": {},
   "source": [
    "### Changing the Objective Function Coefficient for Space Rays\n",
    "\n",
    "Let's go ahead and change the objective function coefficient from the original \\\\$8 to \\\\$7 and re-run the solver to see what we get."
   ]
  },
  {
   "cell_type": "code",
   "execution_count": null,
   "id": "f5046c29-9f31-43b4-8848-6ffe5298a2f8",
   "metadata": {},
   "outputs": [],
   "source": [
    "# Change the objective function\n",
    "m.setObjective(7 * x_s + 5 * x_p)\n",
    "m.update()\n",
    "m.display()"
   ]
  },
  {
   "cell_type": "code",
   "execution_count": null,
   "id": "e9af402c-b1e8-4a03-bb27-ac9cad3cd42b",
   "metadata": {},
   "outputs": [],
   "source": [
    "# Solve the updated model with $7\n",
    "m.optimize()\n",
    "\n",
    "# get the results\n",
    "print(f'To generate the optimal profit of ${m.ObjVal:0.2f}, you should produce the following amounts:')\n",
    "for v in m.getVars():\n",
    "    print(f'   {v.VarName} = {v.X}')"
   ]
  },
  {
   "cell_type": "code",
   "execution_count": null,
   "id": "cf7e3d0c-c8df-4f56-8916-ffb2f9b02c77",
   "metadata": {},
   "outputs": [],
   "source": [
    "# Look at sensitivity analysis for variables again\n",
    "sa_vars(m.getVars())"
   ]
  },
  {
   "cell_type": "markdown",
   "id": "5f790361-3f2b-451c-ab87-23dffad76a8a",
   "metadata": {},
   "source": [
    "### Reduced Costs\n",
    "\n",
    "We want to change the objective function coefficient of Space Rays to \\\\$2 and re-solve the model. Note that \\\\$2 is outside the range of optimality, so we need to re-solve the model to find the optimal solution."
   ]
  },
  {
   "cell_type": "code",
   "execution_count": null,
   "id": "8f3e2d65-9978-4110-acbd-b552ffd7ff5c",
   "metadata": {},
   "outputs": [],
   "source": [
    "# Change the objective function\n",
    "m.setObjective(2 * x_s + 5 * x_p)\n",
    "m.update()\n",
    "m.display()"
   ]
  },
  {
   "cell_type": "code",
   "execution_count": null,
   "id": "097248d7-4c8a-493c-926c-84acbb525a95",
   "metadata": {},
   "outputs": [],
   "source": [
    "# Solve the updated model with $2\n",
    "m.optimize()\n",
    "\n",
    "# get the results\n",
    "print(f'To generate the optimal profit of ${m.ObjVal:0.2f}, you should produce the following amounts:')\n",
    "for v in m.getVars():\n",
    "    print(f'   {v.VarName} = {v.X}')"
   ]
  },
  {
   "cell_type": "code",
   "execution_count": null,
   "id": "b579e429-fb3d-4711-87ec-8ef153f1dd9f",
   "metadata": {},
   "outputs": [],
   "source": [
    "# Look at sensitivity analysis for variables again\n",
    "sa_vars(m.getVars())"
   ]
  },
  {
   "cell_type": "markdown",
   "id": "1a05cb92-3ba0-4ca9-bc6f-5ba899f4ce23",
   "metadata": {},
   "source": [
    "We see that the reduced cost of $x_{s}$ is $-1.75$. This implies that the profit coefficient for Space Rays would have to increase by \\\\$1.75, which would be \\\\$2 + \\\\$1.75 = \\\\$3.75, before it becomes economically feasible to produce Space Rays. (Thought exercise: does that number look familiar?)\n",
    "\n",
    "Another way to think of the reduced cost is: 'What if I were forced to produce one unit (one lot or one dozen) of Space Rays? What would happen to my profit?' Let's add another constraint to the model that forces one unit of Space Rays production and see the results. "
   ]
  },
  {
   "cell_type": "code",
   "execution_count": null,
   "id": "eb24f080-d8ab-4437-89ae-7701d29d89ed",
   "metadata": {},
   "outputs": [],
   "source": [
    "# Add a new constraint that says: x_s >= 1\n",
    "# You could do this two ways:\n",
    "# 1. as a structural constraint -- doing this one\n",
    "# 2. by changing the lower bound on x_s\n",
    "m.addConstr(x_s >= 1, name='force_space_ray_production')\n",
    "m.update()\n",
    "m.display()"
   ]
  },
  {
   "cell_type": "code",
   "execution_count": null,
   "id": "41ae1390-6d76-4a0f-8c25-bdbadad4f2ef",
   "metadata": {},
   "outputs": [],
   "source": [
    "# Solve and display results\n",
    "m.optimize()\n",
    "\n",
    "# get the results\n",
    "print(f'To generate the optimal profit of ${m.ObjVal:0.2f}, you should produce the following amounts:')\n",
    "for v in m.getVars():\n",
    "    print(f'   {v.VarName} = {v.X}')"
   ]
  },
  {
   "cell_type": "markdown",
   "id": "4d6f8b32-b42d-4616-8fcc-3034df46b6aa",
   "metadata": {},
   "source": [
    "### Range of Feasibility\n",
    "\n",
    "Suppose we had one additional pound of plastic that could be used for our production cycle. What does this additional resource do to our solution? Can you answer that with the sensitivity report?\n",
    "\n",
    "First, let's go back to the original model. We need to reset the objective function coefficient for space rays and remove the constraint that forced the production of space rays. Then, let's change the right-hand-side of the plastic constraint and re-solve the problem."
   ]
  },
  {
   "cell_type": "code",
   "execution_count": null,
   "id": "51253dd0-4f1c-4575-aba0-8480e80a3581",
   "metadata": {},
   "outputs": [],
   "source": [
    "# See what the current model looks like\n",
    "m.display()"
   ]
  },
  {
   "cell_type": "markdown",
   "id": "76e7cffb-d26a-4cc7-ab17-f7955364f276",
   "metadata": {},
   "source": [
    "#### A Quick Aside\n",
    "\n",
    "If (and when) the method `.display()` goes away, you could do the following. Write the model to a temporary file in `.lp` format, then read it back in and print it. This approach is a **bad** idea for larger models. See below for an example. "
   ]
  },
  {
   "cell_type": "code",
   "execution_count": null,
   "id": "402e70f5-426c-4a5b-b02e-b379a8102ea2",
   "metadata": {},
   "outputs": [],
   "source": [
    "# One work around is to write the .lp file \n",
    "# to disk and and read it back in and \n",
    "# print it out ... not recommended for large models\n",
    "m.write('./tmp.lp')\n",
    "with open('./tmp.lp') as f:\n",
    "    print(f.read())"
   ]
  },
  {
   "cell_type": "code",
   "execution_count": null,
   "id": "9cff4f5c-0176-44d2-9dba-6ce9e50b884a",
   "metadata": {},
   "outputs": [],
   "source": [
    "# Let's change objective function back to the original\n",
    "m.setObjective(8 * x_s + 5 * x_p)\n",
    "# And delete the force space rays production constraint\n",
    "# Get the constraint by name and remove it\n",
    "c = m.getConstrByName('force_space_ray_production')\n",
    "if c:  # Check if the constraint exists\n",
    "    m.remove(c)\n",
    "\n",
    "m.update()\n",
    "m.display()"
   ]
  },
  {
   "cell_type": "code",
   "execution_count": null,
   "id": "1c9093c2-51e6-415a-913c-d6ca8f466f2a",
   "metadata": {},
   "outputs": [],
   "source": [
    "# Solve the model\n",
    "m.optimize()\n",
    "\n",
    "# get the results\n",
    "print(f'To generate the optimal profit of ${m.ObjVal:0.2f}, you should produce the following amounts:')\n",
    "for v in m.getVars():\n",
    "    print(f'   {v.VarName} = {v.X}')"
   ]
  },
  {
   "cell_type": "markdown",
   "id": "83499ba3-1b33-47bc-a007-28481761478e",
   "metadata": {},
   "source": [
    "### Getting Sensitivity Information for Constraints\n",
    "\n",
    "You can use the function defined at the top of this notebook, `sa_constrs()`, to retrieve the sensitivity analysis for the constraints. The returned value from the function is a pandas `DataFrame`. "
   ]
  },
  {
   "cell_type": "code",
   "execution_count": null,
   "id": "e3ca8b96-de02-4101-a43e-fe35b100359f",
   "metadata": {},
   "outputs": [],
   "source": [
    "# See the docstring for the function\n",
    "help(sa_constrs)"
   ]
  },
  {
   "cell_type": "code",
   "execution_count": null,
   "id": "ec9aa206-8745-4953-a387-1e5a763c0dba",
   "metadata": {},
   "outputs": [],
   "source": [
    "sa_constrs(m.getConstrs())"
   ]
  },
  {
   "cell_type": "code",
   "execution_count": null,
   "id": "17c0cd8c-152e-422a-be02-273758c08e37",
   "metadata": {},
   "outputs": [],
   "source": [
    "# We can pull out a specific constraint by its name\n",
    "# Let's get plastic and store it a Python variable named plastic\n",
    "plastic = m.getConstrByName('plastic')\n",
    "print(plastic.RHS)"
   ]
  },
  {
   "cell_type": "code",
   "execution_count": null,
   "id": "86a9ebf5-494b-4978-8303-7fc7e72eff3b",
   "metadata": {},
   "outputs": [],
   "source": [
    "# Now update the RHS with one additional pound of plastic\n",
    "plastic.RHS = 1201\n",
    "\n",
    "# Update the model and solve it\n",
    "m.update()\n",
    "m.optimize()\n",
    "\n",
    "# get the results\n",
    "print(f'To generate the optimal profit of ${m.ObjVal:0.2f}, you should produce the following amounts:')\n",
    "for v in m.getVars():\n",
    "    print(f'   {v.VarName} = {v.X}')"
   ]
  },
  {
   "cell_type": "code",
   "execution_count": null,
   "id": "fb51ec4d-63d8-4c06-b73d-4a18a7823d19",
   "metadata": {},
   "outputs": [],
   "source": [
    "# sensitivity analysis for variables\n",
    "sa_vars(m.getVars())"
   ]
  },
  {
   "cell_type": "code",
   "execution_count": null,
   "id": "3a1e0143-90bd-4f3d-a790-7a109c2b3079",
   "metadata": {},
   "outputs": [],
   "source": [
    "# sensitivity analysis for constraints\n",
    "sa_constrs(m.getConstrs())"
   ]
  },
  {
   "cell_type": "markdown",
   "id": "f96e968d-53e7-4171-b599-d9c62f468fff",
   "metadata": {},
   "source": [
    "### Multiple Optimal Solutions\n",
    "\n",
    "Suppose the model has multiple optimal solutions. Can we find them? Let's change the objective function coefficient of space rays to \\\\$3.75 and re-solve the model. (We also need to change the plastic constraint's RHS back to 1200.) "
   ]
  },
  {
   "cell_type": "code",
   "execution_count": null,
   "id": "f9f407f9-00ba-44fd-9fa8-0a8f0ee929e9",
   "metadata": {},
   "outputs": [],
   "source": [
    "# See the current model\n",
    "m.display()"
   ]
  },
  {
   "cell_type": "code",
   "execution_count": null,
   "id": "0633ce92-300e-4fb7-9bd6-ad9b60cddddf",
   "metadata": {},
   "outputs": [],
   "source": [
    "# reset the rhs of the plastic constraint to 1200\n",
    "print(f'Current RHS of plastic constraint is {plastic.rhs}')\n",
    "\n",
    "plastic.rhs = 1200\n",
    "\n",
    "# update the model\n",
    "m.update()\n",
    "\n",
    "print(f'After changing RHS of back to original is {plastic.rhs}')"
   ]
  },
  {
   "cell_type": "code",
   "execution_count": null,
   "id": "73d1f698-c7d7-4539-9a24-08a3e961f6b5",
   "metadata": {},
   "outputs": [],
   "source": [
    "# Change the objective function\n",
    "m.setObjective(3.75 * x_s + 5 * x_p)\n",
    "m.update()\n",
    "m.display()"
   ]
  },
  {
   "cell_type": "code",
   "execution_count": null,
   "id": "abfc48ab-80b5-4f3b-98ae-db92ee11ffa3",
   "metadata": {},
   "outputs": [],
   "source": [
    "# Solve\n",
    "m.optimize()\n",
    "\n",
    "# get the results\n",
    "print(f'To generate the optimal profit of ${m.ObjVal:0.2f}, you should produce the following amounts:')\n",
    "for v in m.getVars():\n",
    "    print(f'   {v.VarName} = {v.X}')"
   ]
  },
  {
   "cell_type": "code",
   "execution_count": null,
   "id": "c5bc9583-f95c-4b0a-ae50-a2793626c8de",
   "metadata": {},
   "outputs": [],
   "source": [
    "sa_vars(m.getVars())"
   ]
  },
  {
   "cell_type": "markdown",
   "id": "252d4764-1666-4b05-be97-80291b24618d",
   "metadata": {},
   "source": [
    "#### Multiple Optimal Solutions?\n",
    "\n",
    "I am going to claim that this current model has multiple optimal solutions. One way to determine if that is true is to plug all of the corner points (we only had 5) into the objective function, $3.75x_{s} + 5x_{p}$, and see if any of the other corner points give us \\\\$3,000. (You can go back to where we visualized the model in a previous notebook and found all the corner points.)\n",
    "\n",
    "1. (0, 0) = \\\\$0\n",
    "2. (450, 0) = \\\\$1,687.50\n",
    "3. (550, 100) = \\\\$2,562.50\n",
    "4. (480, 240) = \\\\$3,000\n",
    "5. (0, 600) = \\\\$3,000\n",
    "\n",
    "So, yes, there are multiple optimal solutions to this model. Another clue that an alternate optimal solution exists can be seen in the sensitivity information: the objective function coefficient is the same as the low end of the range of optimality for $x_{s}$.\n",
    "\n",
    "Sometimes, in the sensitivity report we will have the final value of a variable is 0 and its reduced cost is also 0. When this occurs, it is another clue that we may have multiple optimal solutions. \n",
    "\n",
    "Can we force the solver to find the other corner point that is optimal? Yes. We can change the objective function into a constraint and then maximize $x_{p}$. (We are doing this only because we know that the alternate solution has a higher value for $x_{p}$.) Let's try it."
   ]
  },
  {
   "cell_type": "code",
   "execution_count": null,
   "id": "f1628aec-35f9-4a4e-bbd4-d46e3adc0457",
   "metadata": {},
   "outputs": [],
   "source": [
    "# See the current model\n",
    "m.display()"
   ]
  },
  {
   "cell_type": "code",
   "execution_count": null,
   "id": "54b82a3f-c37e-4c63-b70b-b3f873e66214",
   "metadata": {},
   "outputs": [],
   "source": [
    "# Turn the objective function into a constraint\n",
    "m.addConstr(3.75*x_s + 5*x_p == 3000, name='set_obj_value_output')\n",
    "\n",
    "# Change the objectiv function\n",
    "m.setObjective(x_p)\n",
    "\n",
    "m.update()\n",
    "m.display()"
   ]
  },
  {
   "cell_type": "code",
   "execution_count": null,
   "id": "35f2124d-8a93-4a91-af1e-1a4768589922",
   "metadata": {},
   "outputs": [],
   "source": [
    "# solve\n",
    "m.optimize()\n",
    "\n",
    "# get the results\n",
    "for v in m.getVars():\n",
    "    print(f'   {v.VarName} = {v.X}')"
   ]
  },
  {
   "cell_type": "code",
   "execution_count": null,
   "id": "470cbd92-203c-4359-9ddb-60bd51350091",
   "metadata": {},
   "outputs": [],
   "source": [
    "sa_vars(m.getVars())"
   ]
  },
  {
   "cell_type": "markdown",
   "id": "ada333cf-eab4-44bd-babf-c6602d4cd2f6",
   "metadata": {},
   "source": [
    "### Multiple Optimal Solutions\n",
    "\n",
    "Let's consider the model where space rays bring in \\\\$9 of profit and phasers bring in \\\\$4.50 of profit. I will claim that this model also has multiple optimal solutions. Let's adjust our model and see if we can find multiple optimal solutions to it."
   ]
  },
  {
   "cell_type": "code",
   "execution_count": null,
   "id": "f0ea7606-36ff-4349-970e-22034859650e",
   "metadata": {},
   "outputs": [],
   "source": [
    "# See current model\n",
    "m.display()"
   ]
  },
  {
   "cell_type": "code",
   "execution_count": null,
   "id": "bb05d450-baa3-4c23-8442-91256c96564a",
   "metadata": {},
   "outputs": [],
   "source": [
    "# Need to delete the 'set_obj_value_output' constraint\n",
    "c = m.getConstrByName('set_obj_value_output')\n",
    "if c:  # Check if the constraint exists\n",
    "    m.remove(c)\n",
    "    \n",
    "# and change the objective function\n",
    "m.setObjective(9 * x_s + 4.5 * x_p)\n",
    "m.update()\n",
    "m.display()"
   ]
  },
  {
   "cell_type": "code",
   "execution_count": null,
   "id": "eaf3555d-03cd-48b8-8bcc-55567b59c38c",
   "metadata": {},
   "outputs": [],
   "source": [
    "# solve\n",
    "m.optimize()\n",
    "\n",
    "# get the results\n",
    "print(f'To generate the optimal profit of ${m.ObjVal:0.2f}, you should produce the following amounts:')\n",
    "for v in m.getVars():\n",
    "    print(f'   {v.VarName} = {v.X}')"
   ]
  },
  {
   "cell_type": "code",
   "execution_count": null,
   "id": "4c8882ed-5949-475c-856b-402d254d24f0",
   "metadata": {},
   "outputs": [],
   "source": [
    "# Get the reduced cost and range of optimality for each variable\n",
    "sa_vars(m.getVars())"
   ]
  },
  {
   "cell_type": "code",
   "execution_count": null,
   "id": "4bbceb4a-0002-4310-9cbe-04baf0c62162",
   "metadata": {},
   "outputs": [],
   "source": [
    "# get shadow prices and range of feasibility\n",
    "sa_constrs(m.getConstrs())"
   ]
  },
  {
   "cell_type": "markdown",
   "id": "fc41bf4e-023d-4435-9a23-afecf1de097f",
   "metadata": {},
   "source": [
    "#### How to Find Other Optimal Solutions\n",
    "\n",
    "That answer only showed a single solution. We can ask Gurobi to find multiple solutions and then look at those."
   ]
  },
  {
   "cell_type": "code",
   "execution_count": null,
   "id": "6eaa262f-817d-4453-8caf-6ff505a7095e",
   "metadata": {},
   "outputs": [],
   "source": [
    "# do a systematic search for the k-best solutions\n",
    "m.setParam(GRB.Param.PoolSearchMode, 2)\n",
    "\n",
    "# Update the model\n",
    "m.update()\n",
    "\n",
    "# Solve\n",
    "m.optimize()\n",
    "\n",
    "# Get the status\n",
    "status = m.Status\n",
    "if status in (GRB.INF_OR_UNBD, GRB.INFEASIBLE, GRB.UNBOUNDED):\n",
    "    print('The model cannot be solved because it is infeasible or unbounded')\n",
    "\n",
    "if status != GRB.OPTIMAL:\n",
    "    print('Optimization was stopped with status ' + str(status))\n",
    "\n",
    "if status == GRB.OPTIMAL:\n",
    "    print(f'Optimization found an OPTIMAL answer with the status of {status}')\n",
    "\n",
    "# Print number of solutions stored\n",
    "nSolutions = m.SolCount\n",
    "print('Number of solutions found: ' + str(nSolutions))"
   ]
  },
  {
   "cell_type": "markdown",
   "id": "24d6fe4e-a6fe-494f-9785-796b1784dc12",
   "metadata": {},
   "source": [
    "#### Why Only 1 Solution?\n",
    "\n",
    "When the variables are continuous and you have multiple optimal solutions, you will in fact have an **infinite** number of optimal solutions. Therefore, the solver will not try to search for more than one. Which one did it find?"
   ]
  },
  {
   "cell_type": "code",
   "execution_count": null,
   "id": "070f0df7-5842-4903-96a6-0475299ebc44",
   "metadata": {},
   "outputs": [],
   "source": [
    "for v in m.getVars():\n",
    "    print(f'   {v.VarName} = {v.X}')"
   ]
  },
  {
   "cell_type": "markdown",
   "id": "25efa305-14e3-4b65-9ea1-3cbb724d7479",
   "metadata": {},
   "source": [
    "#### Another Possible Approach?\n",
    "\n",
    "Because the optimal solution found above is integer, you could try converting both variables to integer instead of continuous and re-solving the updated model. When dealing with integer or binary variables, Gurobi will try to find other optimal solutions."
   ]
  },
  {
   "cell_type": "code",
   "execution_count": null,
   "id": "cb9cad64-62e9-4267-bf0c-7f6cfa1fdb3a",
   "metadata": {},
   "outputs": [],
   "source": [
    "# change the variable types to integer\n",
    "for var in m.getVars():\n",
    "    print(f'Variable {var.VarName} is currently of type {var.VTYPE}')\n",
    "    var.setAttr(GRB.Attr.VType, GRB.INTEGER)\n",
    "\n",
    "# update the model for changes to take effect\n",
    "m.update()\n",
    "print('After setting the variables to integer ...')\n",
    "for var in m.getVars():\n",
    "    print(f'Variable {var.VarName} is currently of type {var.VTYPE}')"
   ]
  },
  {
   "cell_type": "code",
   "execution_count": null,
   "id": "8ba6f7a5-e835-4908-bf30-4cb80f23f6ea",
   "metadata": {},
   "outputs": [],
   "source": [
    "# see current model\n",
    "m.display()"
   ]
  },
  {
   "cell_type": "code",
   "execution_count": null,
   "id": "57abd842-8cce-4212-bba9-eb07bc7ff7b6",
   "metadata": {},
   "outputs": [],
   "source": [
    "# Solve\n",
    "m.optimize()\n",
    "\n",
    "# Print number of solutions stored\n",
    "nSolutions = m.SolCount\n",
    "print(f'Number of solutions found: {nSolutions}')"
   ]
  },
  {
   "cell_type": "code",
   "execution_count": null,
   "id": "4737ce91-800f-46b7-b7a2-99c1275d9e0d",
   "metadata": {},
   "outputs": [],
   "source": [
    "# Print objective value and values of the decision varaibles of solutions\n",
    "for soln_num in range(m.getAttr(GRB.Attr.SolCount)):\n",
    "    m.Params.SolutionNumber = soln_num\n",
    "    print(f'solution {soln_num} has obj fn value of {m.PoolObjVal}')\n",
    "    for v in m.getVars():\n",
    "        # Need to use v.Xn to the value of the variable v for this solution\n",
    "        print(f'   {v.VarName} = {v.Xn}')\n",
    "    "
   ]
  },
  {
   "cell_type": "markdown",
   "id": "b0ee4633-3c0a-4bd9-b23c-0c3abac6b692",
   "metadata": {},
   "source": [
    "### Success!\n",
    "\n",
    "When using integer variables, we can get multiple optimal solutions with Gurobi. Note that within a solution you need to use **`v.Xn`**, where `v` is the variable, to get the values of the decision variables. "
   ]
  },
  {
   "cell_type": "markdown",
   "id": "74709e3a-0e8b-4a5b-a7c1-031268f95d16",
   "metadata": {
    "deletable": false,
    "editable": false,
    "slideshow": {
     "slide_type": ""
    },
    "tags": []
   },
   "source": [
    "**&copy; 2024 - Present: Matthew D. Dean, Ph.D.   \n",
    "Clinical Professor of Business Analytics at William \\& Mary.**"
   ]
  }
 ],
 "metadata": {
  "kernelspec": {
   "display_name": "Python 3 (ipykernel)",
   "language": "python",
   "name": "python3"
  },
  "language_info": {
   "codemirror_mode": {
    "name": "ipython",
    "version": 3
   },
   "file_extension": ".py",
   "mimetype": "text/x-python",
   "name": "python",
   "nbconvert_exporter": "python",
   "pygments_lexer": "ipython3",
   "version": "3.13.5"
  }
 },
 "nbformat": 4,
 "nbformat_minor": 5
}
