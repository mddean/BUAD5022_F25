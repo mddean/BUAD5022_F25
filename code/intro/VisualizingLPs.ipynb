{
 "cells": [
  {
   "cell_type": "markdown",
   "id": "0143ec31-b3b2-4130-8461-b59a217a8bad",
   "metadata": {
    "editable": true,
    "slideshow": {
     "slide_type": ""
    },
    "tags": []
   },
   "source": [
    "# Geometric Interpretation of Linear Programs\n",
    "\n",
    "It is useful to examine small instances of linear programs (LPs) visually to help understand the geometry of what is involved in the formulation and solving of an LP. We will start by looking at two-variable problems because they are easy to draw. In particular, we will use the Python package `gilp` ([Geometric Interpretation of Linear Programs](https://gilp.henryrobbins.com/en/latest/index.html)). Under the hood, `gilp` uses the package [`plotly`](https://plotly.com/python/) to make the graphics interactive.\n",
    "\n",
    "Let's take a look a few examples."
   ]
  },
  {
   "attachments": {},
   "cell_type": "markdown",
   "id": "3f5c3951-2e45-446f-91a5-af86baa4f8a1",
   "metadata": {},
   "source": [
    "## Formulation Example 1 From Lecture\n",
    "\n",
    "You work for a clothing manufacturer as the shop floor supervisor. One of your responsibilities it to help determine the weekly production quantities for the two products produced in your factory: men’s shirts and men’s pajamas. There are two major steps to making both of these products: (1) cutting the material and (2) sewing the material. Over the next week you have 280 hours available in the sewing department and 450 hours available in the cutting department. Each shirt takes 1 hour of sewing and 90 minutes of cutting. Each pair of PJs takes 45 minutes of sewing and 2 hours of cutting. You estimate that each shirt produced will add \\\\$4 in profit and each pair of PJs will add \\\\$3 in profit. Formulate the LP.\r\n"
   ]
  },
  {
   "cell_type": "markdown",
   "id": "1aeb1934-d5aa-429a-b55b-59dfd9f1d1dc",
   "metadata": {},
   "source": [
    "| | | |\n",
    "| --- | --- | --- |\n",
    "| Let | | |\n",
    "| $$s$$ | = | number of shirts to produce next week |\n",
    "| $$p$$ | = | number of PJs to produce next week |\n",
    "\n",
    "| | | | | | | |\n",
    "| --- | --- | --- | --- | --- | --- | --- |\n",
    "| $\\max$ | $4s$ | $+$ | $3p$ | | | |\n",
    "| s.t. | $1.5s$ | $+$ | $2p$ | $\\le$ | $450$ | {cutting hours} |\n",
    "| | $1s$ | $+$ | $0.75p$ | $\\le$ | $280$ | {sewing hours} |\n",
    "| | $s$ | | | $\\ge$ | $0$ | {non-negativity} |\n",
    "| | | | $p$ | $\\ge$ | $0$ | {non-negativity} |"
   ]
  },
  {
   "cell_type": "markdown",
   "id": "d7aa12e9-cea7-4990-b9e6-1c7983c886a0",
   "metadata": {},
   "source": [
    "### Using `gilp` to Visualize\n",
    "\n",
    "Now we want to use the package `gilp` to visualize this problem."
   ]
  },
  {
   "cell_type": "code",
   "execution_count": null,
   "id": "3064b51e-a0f3-40f5-8d0d-b0313aa5c601",
   "metadata": {},
   "outputs": [],
   "source": [
    "# import the proper packages\n",
    "import numpy as np\n",
    "import gilp\n",
    "from gilp.simplex import LP\n",
    "from gilp.visualize import simplex_visual"
   ]
  },
  {
   "cell_type": "code",
   "execution_count": null,
   "id": "5c36039b-1c50-452f-81c2-f973c374728e",
   "metadata": {},
   "outputs": [],
   "source": [
    "# Create the data from the problem\n",
    "# A is the coefficient matrix for the constraints\n",
    "A = np.array([[1.5,2],\n",
    "              [1,0.75]])\n",
    "\n",
    "# b is the RHS for constraints\n",
    "b = np.array([450, 280])\n",
    "\n",
    "# c is the objective function coefficients\n",
    "c = np.array([4, 3])\n",
    "\n",
    "# Create an LP object\n",
    "lp = LP(A, b, c)"
   ]
  },
  {
   "cell_type": "code",
   "execution_count": null,
   "id": "7521f0d2-7b7d-4a88-ab30-d041a3930934",
   "metadata": {},
   "outputs": [],
   "source": [
    "# Now visualize\n",
    "simplex_visual(lp)"
   ]
  },
  {
   "cell_type": "markdown",
   "id": "62b0e4b7-2997-4b6e-8ed0-eaabe72cfc7d",
   "metadata": {},
   "source": [
    "------\n",
    "# Galaxy Toys Example\n",
    "\n",
    "Galaxy Toys is a toy company that produces two space-age water guns – Space Ray and Phaser. The toys are oroduced in lot sizes of 12 and made exclusively from a special plastic compound. Each week Galaxy has 1200 pounds of the plastic compound and 40 hours of production labor available. There are a few strategic decisions that management has made and must be adhered to. \n",
    "\n",
    "They include:\n",
    "\n",
    "- Limit production to 800 dozen (lots) each week\n",
    "- Weekly production of Space Rays cannot exceed Phasers by more than 450 dozen\n",
    "\n",
    "Space Rays make a profit of \\\\$8 per dozen and takes 2 pounds of plastic and 3 minutes of manufacturing time. Phasers make a profit of \\\\$5 per dozen and takes 1 pound of plastic and 4 minutes of manufacturing time.\n",
    "\n",
    "| | | |\n",
    "| --- | --- | --- |\n",
    "| Let | | |\n",
    "| $x_{1}$ | = | number of lots (dozens) of Space Rays to produce next week |\n",
    "| $x_{2}$ | = | number of lots (dozens) of Phasers to produce next week |\n",
    "\n",
    "| | | | | | | |\n",
    "| --- | --- | --- | --- | --- | --- | --- |\n",
    "| $\\max$ | $8x_{1}$ | $+$ | $5x_{2}$ | | | |\n",
    "| s.t. | $2x_{1}$ | $+$ | $1x_{1}$ | $\\le$ | $1200$ | {plastic pounds} |\n",
    "| | $3x_{1}$ | $+$ | $4x_{2}$ | $\\le$ | $2400$ | {minutes of production} |\n",
    "| | $1x_{1}$ | $+$ | $1x_{2}$ | $\\le$ | $800$ | {overall production limit} |\n",
    "| | $1x_{1}$ | $-$ | $1x_{2}$ | $\\le$ | $450$ | {mix of products produced} |\n",
    "| | $x_{1}$ | | | $\\ge$ | $0$ | {non-negativity} |\n",
    "| | | | $x_{2}$ | $\\ge$ | $0$ | {non-negativity} |"
   ]
  },
  {
   "cell_type": "code",
   "execution_count": null,
   "id": "dfdd46d0-1c75-4b6b-8fac-6b9a718c52c9",
   "metadata": {},
   "outputs": [],
   "source": [
    "# Create the data from the problem\n",
    "# A is the coefficient matrix for the constraints\n",
    "A2 = np.array([[2,1],\n",
    "               [3,4],\n",
    "               [1,1],\n",
    "               [1,-1]])\n",
    "\n",
    "# b is the RHS for constraints\n",
    "b2 = np.array([1200, 2400, 800, 450])\n",
    "\n",
    "# c is the objective function coefficients\n",
    "c2 = np.array([8, 5])\n",
    "\n",
    "# Create an LP object\n",
    "lp2 = LP(A2, b2, c2)"
   ]
  },
  {
   "cell_type": "code",
   "execution_count": null,
   "id": "57e32a81-7787-4b2b-a136-720d8a618998",
   "metadata": {},
   "outputs": [],
   "source": [
    "# Now visualize\n",
    "simplex_visual(lp2)"
   ]
  },
  {
   "cell_type": "markdown",
   "id": "dabccbae-474e-4bce-bde1-eacfbba47ab1",
   "metadata": {
    "deletable": false,
    "editable": false,
    "slideshow": {
     "slide_type": ""
    },
    "tags": []
   },
   "source": [
    "**&copy; 2024 - Present: Matthew D. Dean, Ph.D.   \r\n",
    "Clinical Professor of Business Analytics at William \\& Mary.**"
   ]
  }
 ],
 "metadata": {
  "kernelspec": {
   "display_name": "Python 3 (ipykernel)",
   "language": "python",
   "name": "python3"
  },
  "language_info": {
   "codemirror_mode": {
    "name": "ipython",
    "version": 3
   },
   "file_extension": ".py",
   "mimetype": "text/x-python",
   "name": "python",
   "nbconvert_exporter": "python",
   "pygments_lexer": "ipython3",
   "version": "3.13.5"
  }
 },
 "nbformat": 4,
 "nbformat_minor": 5
}
